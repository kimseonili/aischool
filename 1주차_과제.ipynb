{
  "nbformat": 4,
  "nbformat_minor": 0,
  "metadata": {
    "colab": {
      "name": "1주차 과제.ipynb",
      "provenance": [],
      "collapsed_sections": [],
      "authorship_tag": "ABX9TyNy4bOij33sjX8bN2WsuzCF",
      "include_colab_link": true
    },
    "kernelspec": {
      "name": "python3",
      "display_name": "Python 3"
    }
  },
  "cells": [
    {
      "cell_type": "markdown",
      "metadata": {
        "id": "view-in-github",
        "colab_type": "text"
      },
      "source": [
        "<a href=\"https://colab.research.google.com/github/kimseonili/aischool/blob/master/1%EC%A3%BC%EC%B0%A8_%EA%B3%BC%EC%A0%9C.ipynb\" target=\"_parent\"><img src=\"https://colab.research.google.com/assets/colab-badge.svg\" alt=\"Open In Colab\"/></a>"
      ]
    },
    {
      "cell_type": "markdown",
      "metadata": {
        "id": "Y9MhEwxVyNfj",
        "colab_type": "text"
      },
      "source": [
        "# 1주차 과제\n",
        "- 인공지능은 현재 많은 제품과 서비스에 적용되어 있습니다. 특히 언어, 음성, 이미지, 자율주행의 분야에서 자주 찾아볼 수 있는데요.\n",
        "시중에 나와있는 다양한 제품들과 서비스 속 적용된 인공지능 기술들에 대해서 분석해 보고 여러분의 흥미를 끄는 기술들은 무엇이 있는지 찾아 보며 여러분 나름의 학습 목표를 세워보시기 바랍니다.\n",
        "---\n",
        "\n",
        "## 언어\n",
        "- 심심이\n",
        "  - 인간이 아닌 AI와의 채팅을 주고받을 수 있는 서비스. 자연어처리와 상황인식 컴퓨팅을 통해 사용자와 자연스러운 대화를 주고 받을 수 있으며, 사용자의 피드백을 통해 더욱 상황에 맞는 언어를 사용하게 할 수도, 비속어 등을 금지 시킬 수 있다. \n",
        "\n",
        "---\n",
        "## 음성\n",
        "- YouTube 자동 자막\n",
        "  - 음성 인식 기술을 사용해 자동으로 동영상의 자막을 만들어주는 기술.\n",
        "음성을 텍스트로 만들어 이를 보여주거나 다른 언어로 번역하여 제공해 준다.\n",
        "이를 통해 청각 장애인이나, 다른 언어권의 외국인이 영상 시청에 편의를 더해주었다.\n",
        "\n",
        "\n",
        "---\n",
        "## 이미지\n",
        "- Apple Face ID\n",
        "  - 사용자의 얼굴을 인식하여 기기의 잠금을 해제할 수 있는 기술.\n",
        "손을 통해 지문이나 비밀번호를 입력하여 전자장치의 잠금을 해제하는 방식이 아니기 때문에 손을 사용할 수 없는 상황에서 더욱 유용하게 사용되고 있다.\n",
        "\n",
        "\n",
        "---\n",
        "## 자율주행\n",
        "\n",
        "- 테슬라 완전자율주행\n",
        "  - 테슬라의 자동차에 탑재된 자율주행시스템으로, 딥러닝을 활용하여 정확도를 점점 높여나가고 있다.\n",
        "자동 차선 변경, 주차, 주행 등 기존 운전자가 직접 운전해야 했던 작업들을 대신 수행할 수 있다.\n",
        "계속해서 자율주행 시스템을 개발, 업데이트 하고 있으며, 더욱 복잡한 교차로, 비보호 좌 우회전 등을 2020년까지 개발을 목표로 하고 있다.\n",
        "\n",
        "\n"
      ]
    }
  ]
}
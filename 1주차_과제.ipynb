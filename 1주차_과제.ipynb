{
  "nbformat": 4,
  "nbformat_minor": 0,
  "metadata": {
    "colab": {
      "name": "1주차 과제.ipynb",
      "provenance": [],
      "collapsed_sections": [],
      "authorship_tag": "ABX9TyMAjRqBks9Y/vWGB3Y9f4EW",
      "include_colab_link": true
    },
    "kernelspec": {
      "name": "python3",
      "display_name": "Python 3"
    }
  },
  "cells": [
    {
      "cell_type": "markdown",
      "metadata": {
        "id": "view-in-github",
        "colab_type": "text"
      },
      "source": [
        "<a href=\"https://colab.research.google.com/github/kimseonili/aischool/blob/master/1%EC%A3%BC%EC%B0%A8_%EA%B3%BC%EC%A0%9C.ipynb\" target=\"_parent\"><img src=\"https://colab.research.google.com/assets/colab-badge.svg\" alt=\"Open In Colab\"/></a>"
      ]
    },
    {
      "cell_type": "markdown",
      "metadata": {
        "id": "Y9MhEwxVyNfj",
        "colab_type": "text"
      },
      "source": [
        "# 1주차 과제\n",
        "- 인공지능은 현재 많은 제품과 서비스에 적용되어 있습니다. 특히 언어, 음성, 이미지, 자율주행의 분야에서 자주 찾아볼 수 있는데요.\n",
        "시중에 나와있는 다양한 제품들과 서비스 속 적용된 인공지능 기술들에 대해서 분석해 보고 여러분의 흥미를 끄는 기술들은 무엇이 있는지 찾아 보며 여러분 나름의 학습 목표를 세워보시기 바랍니다.\n",
        "---\n",
        "\n",
        "## 언어\n",
        "- 심심이\n",
        "  - 인간이 아닌 AI와의 채팅을 주고받을 수 있는 서비스. 자연어처리와 상황인식 컴퓨팅을 통해 사용자와 자연스러운 대화를 주고 받을 수 있으며, 사용자의 피드백을 통해 더욱 상황에 맞는 언어를 사용하게 할 수도, 비속어 등을 금지 시킬 수 있다. \n",
        "![대체 텍스트](https://img5.yna.co.kr/etc/inner/KR/2017/10/13/AKR20171013150500887_13_i_P2.jpg)\n",
        "- 단비\n",
        "  - 챗봇 서비스 개발을 쉽게 해주는  서비스. 단순 문의 응답부터 복합형 챗봇까지 개발지식 없이도 챗봇을 개발하는데 도움을 주는 서비스다.\n",
        "  엑셀파일로 학습데이터를 입력할 수 있으며, 사용시 유저의 질문을 자연어 처리등의 과정을 거쳐 적절한 답변을 출력한다.\n",
        "  ![대체 텍스트](https://doc.danbee.ai/images/channel/frogue/frogue05_livechat.PNG)\n",
        "\n",
        "---\n",
        "## 음성\n",
        "- YouTube 자동 자막\n",
        "  - 음성 인식 기술을 사용해 자동으로 동영상의 자막을 만들어주는 기술.\n",
        "음성을 텍스트로 만들어 이를 보여주거나 다른 언어로 번역하여 제공해 준다.\n",
        "이를 통해 청각 장애인이나, 다른 언어권의 외국인이 영상 시청에 편의를 더해주었다.\n",
        "![대체 텍스트](https://t1.daumcdn.net/cfile/tistory/205E11154B0D972A2B?original)\n",
        "- Selyvy deppTTS\n",
        "  - 셀바스 AI에서 개발한 음성합성(Text to Speech)기술.\n",
        "  단순히 텍스트를 읽어줄 뿐만 아니라 감정의 강도까지 조절할 수 있어 다양한 컨텐츠 별 상황에 어울리는 감정 연기를 가능하게 한다.교차언어 학습 기술을 통해 한명의 AI화자가 다양한 언어 역시 구사할 수 있다.\n",
        "  ![대체 텍스트](http://www.aitimes.kr/news/photo/201910/14533_15363_812.jpg)\n",
        "\n",
        "---\n",
        "## 이미지\n",
        "- Apple Face ID\n",
        "  - 사용자의 얼굴을 인식하여 기기의 잠금을 해제할 수 있는 기술.\n",
        "손을 통해 지문이나 비밀번호를 입력하여 전자장치의 잠금을 해제하는 방식이 아니기 때문에 손을 사용할 수 없는 상황에서 더욱 유용하게 사용되고 있다.\n",
        "![대체 텍스트](https://cdn.cultofmac.com/wp-content/uploads/2017/10/Face-ID-iPhone-X.jpg)\n",
        "\n",
        "- 네이버 Snow 어플\n",
        "  - 사진에 다양한 필터를 씌워주는 Snow는 딥러닝을 통하여 안면인식 기술을 증강현식(AR)기술과 결합해 수염, 모자 등 다양한 스티커 또는 필터를 적용할 수 있다.\n",
        "![대체 텍스트](https://img.etnews.com/photonews/1702/924236_20170216162537_288_0001.jpg)\n",
        "---\n",
        "## 자율주행\n",
        "\n",
        "- 테슬라 완전자율주행\n",
        "  - 테슬라의 자동차에 탑재된 자율주행시스템으로, 딥러닝을 활용하여 정확도를 점점 높여나가고 있다.\n",
        "자동 차선 변경, 주차, 주행 등 기존 운전자가 직접 운전해야 했던 작업들을 대신 수행할 수 있다.\n",
        "계속해서 자율주행 시스템을 개발, 업데이트 하고 있으며, 더욱 복잡한 교차로, 비보호 좌 우회전 등을 2020년까지 개발을 목표로 하고 있다.\n",
        "![대체 텍스트](https://www.irobotnews.com/news/photo/201802/13081_31088_208.png)\n",
        "\n",
        "- Space X \n",
        "  - 민간 우주탐사업체인 Space X는 자율주행인 바지선을 통해 해양에 떨어진 로켓 추진체를 수거한다. 또한 로켓 자율주행을 통해 상업용 궤도 운송 서비스를 계획에 있다. 향후 화물뿐만 아니라 승무원까지 수송 가능한 유인 우주선까지 개발하여 행성 간 이동 시스템(ITS)를 화성에 가는 프로젝트를 추진하고 있다.\n"
      ]
    }
  ]
}